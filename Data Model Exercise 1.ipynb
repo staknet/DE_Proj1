{
 "cells": [
  {
   "cell_type": "markdown",
   "id": "3633b22f",
   "metadata": {},
   "source": [
    "### Creating a table with PostgreSQL"
   ]
  },
  {
   "cell_type": "code",
   "execution_count": 2,
   "id": "06e6d3f1",
   "metadata": {},
   "outputs": [
    {
     "name": "stdout",
     "output_type": "stream",
     "text": [
      "Collecting psycopg2\n",
      "  Downloading psycopg2-2.9.6.tar.gz (383 kB)\n",
      "\u001b[2K     \u001b[90m━━━━━━━━━━━━━━━━━━━━━━━━━━━━━━━━━━━━━━━\u001b[0m \u001b[32m384.0/384.0 kB\u001b[0m \u001b[31m3.3 MB/s\u001b[0m eta \u001b[36m0:00:00\u001b[0ma \u001b[36m0:00:01\u001b[0m\n",
      "\u001b[?25h  Preparing metadata (setup.py) ... \u001b[?25ldone\n",
      "\u001b[?25hBuilding wheels for collected packages: psycopg2\n",
      "  Building wheel for psycopg2 (setup.py) ... \u001b[?25ldone\n",
      "\u001b[?25h  Created wheel for psycopg2: filename=psycopg2-2.9.6-cp311-cp311-macosx_10_9_x86_64.whl size=133936 sha256=0cccd164c081ae2579165e9de02af9b90f50c4a743e0c95b39756e192722f356\n",
      "  Stored in directory: /Users/shalinitaknet/Library/Caches/pip/wheels/a2/c5/3d/b8fd44767c125a321b8d6d7fbcce0181d2f2d1e34967c81365\n",
      "Successfully built psycopg2\n",
      "Installing collected packages: psycopg2\n",
      "Successfully installed psycopg2-2.9.6\n"
     ]
    }
   ],
   "source": [
    "!pip install psycopg2"
   ]
  },
  {
   "cell_type": "markdown",
   "id": "d1852175",
   "metadata": {},
   "source": [
    "### Import the library"
   ]
  },
  {
   "cell_type": "code",
   "execution_count": 3,
   "id": "e512e007",
   "metadata": {},
   "outputs": [],
   "source": [
    "import psycopg2"
   ]
  },
  {
   "cell_type": "markdown",
   "id": "c8fee333",
   "metadata": {},
   "source": [
    "### Create a connection to the database"
   ]
  },
  {
   "cell_type": "code",
   "execution_count": 5,
   "id": "1c64573d",
   "metadata": {},
   "outputs": [],
   "source": [
    "try:\n",
    "    conn = psycopg2.connect(\"host=localhost dbname=postgres user=postgres password=root\")\n",
    "except psycopg2.Error as e:\n",
    "    print(\"Could not make connection to the Postgres database\")\n",
    "    print(e)"
   ]
  },
  {
   "cell_type": "markdown",
   "id": "843486f8",
   "metadata": {},
   "source": [
    "### Use the connection to get a cursor that can be used to execute queries"
   ]
  },
  {
   "cell_type": "code",
   "execution_count": 6,
   "id": "f20cc10e",
   "metadata": {},
   "outputs": [],
   "source": [
    "try:\n",
    "    cur=conn.cursor()\n",
    "except psycopg2.Error as e:\n",
    "    print(\"Could not get cursor to the databse\")\n",
    "    print(e)"
   ]
  },
  {
   "cell_type": "markdown",
   "id": "64f0beac",
   "metadata": {},
   "source": [
    "### Set automatic commit to be true so that each action is committed without having a call to conn.commit() after each commmand"
   ]
  },
  {
   "cell_type": "code",
   "execution_count": 7,
   "id": "161a04cc",
   "metadata": {},
   "outputs": [],
   "source": [
    "conn.set_session(autocommit=True)"
   ]
  },
  {
   "cell_type": "markdown",
   "id": "f5a4c38c",
   "metadata": {},
   "source": [
    "### Create a database to do the work"
   ]
  },
  {
   "cell_type": "code",
   "execution_count": 8,
   "id": "a0661068",
   "metadata": {},
   "outputs": [],
   "source": [
    "try:\n",
    "    cur.execute(\"create database studentdb\")\n",
    "except psycopg2.Error as e:\n",
    "    print(\"Could not create the database\")\n",
    "    print(e)\n",
    "    \n"
   ]
  },
  {
   "cell_type": "markdown",
   "id": "48491971",
   "metadata": {},
   "source": [
    "### Add this new database in the connect statement and close the connection to the default database postgre"
   ]
  },
  {
   "cell_type": "code",
   "execution_count": 12,
   "id": "aa9d8f8d",
   "metadata": {},
   "outputs": [],
   "source": [
    "#Closing the connection\n",
    "try:\n",
    "    conn.close()\n",
    "except psycopg2.Error as e:\n",
    "    print(\"Could not close the connection to the old database\", e)\n",
    "\n",
    "    \n",
    "#Creating the new connection\n",
    "try:\n",
    "    conn = psycopg2.connect(\"host=localhost dbname=studentdb user=postgres password=root\")\n",
    "except psycopg2.Error as e:\n",
    "    print(\"Could not make connection to the studentdb database\")\n",
    "    print(e)\n",
    "    \n",
    "#Creating the new cursor\n",
    "try:\n",
    "    cur = conn.cursor()\n",
    "except psycopg2.Error as e:\n",
    "    print(\"Could not create the cursor to the connected database\")\n",
    "    print(e)\n",
    "    \n",
    "conn.set_session(autocommit=True)"
   ]
  },
  {
   "cell_type": "markdown",
   "id": "9f35d304",
   "metadata": {},
   "source": [
    "### Create table students with following columns\n",
    "\n",
    "student_id <br>\n",
    "name <br>\n",
    "age <br>\n",
    "gender <br>\n",
    "subject <br>\n",
    "marks"
   ]
  },
  {
   "cell_type": "code",
   "execution_count": 21,
   "id": "f7486686",
   "metadata": {},
   "outputs": [],
   "source": [
    "try: \n",
    "    cur.execute(\"CREATE TABLE IF NOT EXISTS students (student_id int, \\\n",
    "    name varchar, age int, gender varchar, subject varchar, marks int);\")\n",
    "except psycopg2.Error as e:\n",
    "        print(e)"
   ]
  },
  {
   "cell_type": "markdown",
   "id": "4753d6f1",
   "metadata": {},
   "source": [
    "### Insert the following two rows, in the table\n",
    "<br>First row: 1, \"Raja\", 23, \"Male\", \"Python\", 84\n",
    "<br>First row: 2, \"Rani\", 22, \"Male\", \"Python\", 86"
   ]
  },
  {
   "cell_type": "code",
   "execution_count": 36,
   "id": "1db58f0b",
   "metadata": {},
   "outputs": [],
   "source": [
    "try:\n",
    "    cur.execute(\"INSERT INTO students VALUES (%s, %s, %s, %s, %s, %s)\"\\\n",
    "            , (1, \"Raja\", 23, \"Male\", \"Python\", 84))\n",
    "except psycopg2.Error as e:\n",
    "    print(e)"
   ]
  },
  {
   "cell_type": "code",
   "execution_count": 37,
   "id": "444911e5",
   "metadata": {},
   "outputs": [],
   "source": [
    "    cur.execute(\"INSERT INTO students VALUES (%s, %s, %s, %s, %s, %s)\"\\\n",
    "            , (2, \"Rani\", 22, \"Male\", \"Python\", 86))"
   ]
  },
  {
   "cell_type": "markdown",
   "id": "b7e54e5d",
   "metadata": {},
   "source": [
    "### Validate our data was inserted successfully"
   ]
  },
  {
   "cell_type": "code",
   "execution_count": 48,
   "id": "50b934be",
   "metadata": {},
   "outputs": [
    {
     "ename": "InterfaceError",
     "evalue": "cursor already closed",
     "output_type": "error",
     "traceback": [
      "\u001b[0;31m---------------------------------------------------------------------------\u001b[0m",
      "\u001b[0;31mInterfaceError\u001b[0m                            Traceback (most recent call last)",
      "Cell \u001b[0;32mIn[48], line 1\u001b[0m\n\u001b[0;32m----> 1\u001b[0m cur\u001b[38;5;241m.\u001b[39mexecute(\u001b[38;5;124m\"\u001b[39m\u001b[38;5;124mselect * from students;\u001b[39m\u001b[38;5;124m\"\u001b[39m)\n",
      "\u001b[0;31mInterfaceError\u001b[0m: cursor already closed"
     ]
    }
   ],
   "source": [
    "cur.execute(\"select * from students;\")"
   ]
  },
  {
   "cell_type": "code",
   "execution_count": 46,
   "id": "d028fc0e",
   "metadata": {},
   "outputs": [
    {
     "name": "stdout",
     "output_type": "stream",
     "text": [
      "(1, 'Raja', 23, 'Male', 'Python', 84)\n",
      "(2, 'Rani', 22, 'Male', 'Python', 86)\n"
     ]
    }
   ],
   "source": [
    "rows = cur.fetchall()\n",
    "for row in rows:\n",
    "    print(row)"
   ]
  },
  {
   "cell_type": "markdown",
   "id": "ebede1fb",
   "metadata": {},
   "source": [
    "### Finally close your cursor and connection"
   ]
  },
  {
   "cell_type": "code",
   "execution_count": 47,
   "id": "a76a71bc",
   "metadata": {},
   "outputs": [],
   "source": [
    "cur.close()\n",
    "conn.close()"
   ]
  },
  {
   "cell_type": "code",
   "execution_count": null,
   "id": "b07844c4",
   "metadata": {},
   "outputs": [],
   "source": []
  },
  {
   "cell_type": "code",
   "execution_count": null,
   "id": "649a729c",
   "metadata": {},
   "outputs": [],
   "source": []
  },
  {
   "cell_type": "code",
   "execution_count": null,
   "id": "87d132d1",
   "metadata": {},
   "outputs": [],
   "source": []
  },
  {
   "cell_type": "code",
   "execution_count": null,
   "id": "8f8b2744",
   "metadata": {},
   "outputs": [],
   "source": []
  },
  {
   "cell_type": "code",
   "execution_count": null,
   "id": "16e87e09",
   "metadata": {},
   "outputs": [],
   "source": []
  },
  {
   "cell_type": "code",
   "execution_count": null,
   "id": "41c6bae0",
   "metadata": {},
   "outputs": [],
   "source": []
  },
  {
   "cell_type": "code",
   "execution_count": null,
   "id": "bbad8591",
   "metadata": {},
   "outputs": [],
   "source": []
  }
 ],
 "metadata": {
  "kernelspec": {
   "display_name": "Python 3 (ipykernel)",
   "language": "python",
   "name": "python3"
  },
  "language_info": {
   "codemirror_mode": {
    "name": "ipython",
    "version": 3
   },
   "file_extension": ".py",
   "mimetype": "text/x-python",
   "name": "python",
   "nbconvert_exporter": "python",
   "pygments_lexer": "ipython3",
   "version": "3.11.3"
  }
 },
 "nbformat": 4,
 "nbformat_minor": 5
}
